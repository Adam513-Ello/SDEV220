{
 "cells": [
  {
   "cell_type": "code",
   "execution_count": 28,
   "metadata": {},
   "outputs": [
    {
     "name": "stdout",
     "output_type": "stream",
     "text": [
      "Vehicle type: Car\n",
      "Year: 1998\n",
      "Make: Ford\n",
      "Model: F150\n",
      "Number of doors: 2\n",
      "Type of roof: solid\n"
     ]
    }
   ],
   "source": [
    "#Author: Adam Elliott\n",
    "#File name: Case_Study_Mod_3\n",
    "#Purpose: Allows user to enter data into a class and recieve a well, put together output\n",
    "# by pulling information form the Superclass and the subclass.\n",
    "\n",
    "#Super class setup\n",
    "class Vehicle():\n",
    "    def __init__(self, vehicle_type):\n",
    "        self.vehicle_type = vehicle_type\n",
    "class Automobile(Vehicle): #Subclass setup\n",
    "    def __init__(self, vehicle_type,year, make, model, doors, roof):\n",
    "        super().__init__(vehicle_type)\n",
    "        self.year = year\n",
    "        self.make = make\n",
    "        self.model = model\n",
    "        self.doors = doors\n",
    "        self.roof = roof\n",
    "#Gets user input\n",
    "vehicle_type = input('vehicle type:')\n",
    "year = input('year:')\n",
    "make = input('make:')\n",
    "model = input('model:')\n",
    "doors = input('doors(2 or 4):')\n",
    "roof = input('roof (solid or sun roof):')\n",
    "#Prints out the vehicles attributes\n",
    "Attributes = Automobile(vehicle_type, year, make, model, doors, roof)\n",
    "print('Vehicle type:', Attributes.vehicle_type)\n",
    "print('Year:', Attributes.year)\n",
    "print('Make:', Attributes.make)\n",
    "print('Model:', Attributes.model)\n",
    "print('Number of doors:' ,Attributes.doors)\n",
    "print('Type of roof:', Attributes.roof)\n"
   ]
  },
  {
   "cell_type": "code",
   "execution_count": 9,
   "metadata": {},
   "outputs": [
    {
     "name": "stdout",
     "output_type": "stream",
     "text": [
      "Car\n"
     ]
    }
   ],
   "source": [
    "car = Automobile('Car', 1992, 'Ford', 'Fusion', '4','Standard')\n",
    "car.vehicle_type = 'truck'\n",
    "print(car.vehicle_type)"
   ]
  }
 ],
 "metadata": {
  "kernelspec": {
   "display_name": "base",
   "language": "python",
   "name": "python3"
  },
  "language_info": {
   "codemirror_mode": {
    "name": "ipython",
    "version": 3
   },
   "file_extension": ".py",
   "mimetype": "text/x-python",
   "name": "python",
   "nbconvert_exporter": "python",
   "pygments_lexer": "ipython3",
   "version": "3.12.4"
  }
 },
 "nbformat": 4,
 "nbformat_minor": 2
}
