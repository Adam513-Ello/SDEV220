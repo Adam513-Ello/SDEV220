{
 "cells": [
  {
   "cell_type": "code",
   "execution_count": 1,
   "metadata": {},
   "outputs": [],
   "source": [
    "#Binary serch \n",
    "\n",
    "class Solution:\n",
    "    def binarysearch(self, arr, k):\n",
    "        # code here\n",
    "        start, end = 0, len(arr) - 1\n",
    "        \n",
    "        while start <= end:\n",
    "            # Find the middle index\n",
    "            mid = (start + end) // 2\n",
    "            \n",
    "            # Check if the element at mid is the target\n",
    "            if arr[mid] == k:\n",
    "                return mid  # Target found, return the index\n",
    "            \n",
    "            # If the target is greater, ignore the left half\n",
    "            elif arr[mid] < k:\n",
    "                start = mid + 1\n",
    "            \n",
    "            # If the target is smaller, ignore the right half\n",
    "            else:\n",
    "                end = mid - 1\n",
    "        \n",
    "        # Target is not in the array\n",
    "        return -1"
   ]
  },
  {
   "cell_type": "code",
   "execution_count": 2,
   "metadata": {},
   "outputs": [],
   "source": [
    "#Sort 0s, 1s, & 2s. \n",
    "\n",
    "class Solution:\n",
    "    def sort012(self, arr):\n",
    "        # code here\n",
    "        small, med, large = 0, 0, len(arr) - 1\n",
    "        # While loop until sorted \n",
    "        while med <= large:\n",
    "            if arr[med] == 0:\n",
    "                arr[small], arr[med], = arr[med], arr[small]\n",
    "                small += 1\n",
    "                med += 1\n",
    "            elif arr[med] == 1:\n",
    "                med += 1\n",
    "            else:\n",
    "                arr[med], arr[large] = arr[large], arr [med]\n",
    "                large -= 1"
   ]
  }
 ],
 "metadata": {
  "kernelspec": {
   "display_name": "base",
   "language": "python",
   "name": "python3"
  },
  "language_info": {
   "codemirror_mode": {
    "name": "ipython",
    "version": 3
   },
   "file_extension": ".py",
   "mimetype": "text/x-python",
   "name": "python",
   "nbconvert_exporter": "python",
   "pygments_lexer": "ipython3",
   "version": "3.12.4"
  }
 },
 "nbformat": 4,
 "nbformat_minor": 2
}
